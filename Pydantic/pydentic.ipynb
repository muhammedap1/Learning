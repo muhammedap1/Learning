{
 "cells": [
  {
   "cell_type": "code",
   "execution_count": 9,
   "metadata": {},
   "outputs": [],
   "source": [
    "from pydantic import BaseModel"
   ]
  },
  {
   "cell_type": "code",
   "execution_count": 13,
   "metadata": {},
   "outputs": [],
   "source": [
    "class person(BaseModel):\n",
    "    name:str\n",
    "    age:int\n",
    "    city:str\n",
    "    "
   ]
  },
  {
   "cell_type": "code",
   "execution_count": 14,
   "metadata": {},
   "outputs": [
    {
     "ename": "ValidationError",
     "evalue": "1 validation error for person\ncity\n  Input should be a valid string [type=string_type, input_value=3, input_type=int]\n    For further information visit https://errors.pydantic.dev/2.11/v/string_type",
     "output_type": "error",
     "traceback": [
      "\u001b[1;31m---------------------------------------------------------------------------\u001b[0m",
      "\u001b[1;31mValidationError\u001b[0m                           Traceback (most recent call last)",
      "\u001b[1;32mc:\\Users\\We Store\\OneDrive\\Desktop\\Data Science\\Generative AI\\pydentic\\pydentic.ipynb Cell 3\u001b[0m line \u001b[0;36m1\n\u001b[1;32m----> <a href='vscode-notebook-cell:/c%3A/Users/We%20Store/OneDrive/Desktop/Data%20Science/Generative%20AI/pydentic/pydentic.ipynb#W2sZmlsZQ%3D%3D?line=0'>1</a>\u001b[0m person\u001b[39m=\u001b[39mperson(name\u001b[39m=\u001b[39;49m\u001b[39m'\u001b[39;49m\u001b[39mmuhammed\u001b[39;49m\u001b[39m'\u001b[39;49m,age\u001b[39m=\u001b[39;49m\u001b[39m23\u001b[39;49m,city\u001b[39m=\u001b[39;49m\u001b[39m3\u001b[39;49m)\n",
      "File \u001b[1;32mc:\\Users\\We Store\\OneDrive\\Desktop\\Data Science\\learning_chatbot\\7\\venv\\Lib\\site-packages\\pydantic\\main.py:253\u001b[0m, in \u001b[0;36mBaseModel.__init__\u001b[1;34m(self, **data)\u001b[0m\n\u001b[0;32m    251\u001b[0m \u001b[39m# `__tracebackhide__` tells pytest and some other tools to omit this function from tracebacks\u001b[39;00m\n\u001b[0;32m    252\u001b[0m __tracebackhide__ \u001b[39m=\u001b[39m \u001b[39mTrue\u001b[39;00m\n\u001b[1;32m--> 253\u001b[0m validated_self \u001b[39m=\u001b[39m \u001b[39mself\u001b[39;49m\u001b[39m.\u001b[39;49m__pydantic_validator__\u001b[39m.\u001b[39;49mvalidate_python(data, self_instance\u001b[39m=\u001b[39;49m\u001b[39mself\u001b[39;49m)\n\u001b[0;32m    254\u001b[0m \u001b[39mif\u001b[39;00m \u001b[39mself\u001b[39m \u001b[39mis\u001b[39;00m \u001b[39mnot\u001b[39;00m validated_self:\n\u001b[0;32m    255\u001b[0m     warnings\u001b[39m.\u001b[39mwarn(\n\u001b[0;32m    256\u001b[0m         \u001b[39m'\u001b[39m\u001b[39mA custom validator is returning a value other than `self`.\u001b[39m\u001b[39m\\n\u001b[39;00m\u001b[39m'\u001b[39m\n\u001b[0;32m    257\u001b[0m         \u001b[39m\"\u001b[39m\u001b[39mReturning anything other than `self` from a top level model validator isn\u001b[39m\u001b[39m'\u001b[39m\u001b[39mt supported when validating via `__init__`.\u001b[39m\u001b[39m\\n\u001b[39;00m\u001b[39m\"\u001b[39m\n\u001b[0;32m    258\u001b[0m         \u001b[39m'\u001b[39m\u001b[39mSee the `model_validator` docs (https://docs.pydantic.dev/latest/concepts/validators/#model-validators) for more details.\u001b[39m\u001b[39m'\u001b[39m,\n\u001b[0;32m    259\u001b[0m         stacklevel\u001b[39m=\u001b[39m\u001b[39m2\u001b[39m,\n\u001b[0;32m    260\u001b[0m     )\n",
      "\u001b[1;31mValidationError\u001b[0m: 1 validation error for person\ncity\n  Input should be a valid string [type=string_type, input_value=3, input_type=int]\n    For further information visit https://errors.pydantic.dev/2.11/v/string_type"
     ]
    }
   ],
   "source": [
    "person=person(name='muhammed',age=23,city=3)"
   ]
  },
  {
   "cell_type": "code",
   "execution_count": 15,
   "metadata": {},
   "outputs": [],
   "source": [
    "class person1(BaseModel):\n",
    "    name:str\n",
    "    age:int\n",
    "    city:str"
   ]
  },
  {
   "cell_type": "code",
   "execution_count": 16,
   "metadata": {},
   "outputs": [],
   "source": [
    "person1=person1(name='muhammed',age=23,city='calicut')"
   ]
  },
  {
   "cell_type": "code",
   "execution_count": 17,
   "metadata": {},
   "outputs": [
    {
     "name": "stdout",
     "output_type": "stream",
     "text": [
      "name='muhammed' age=23 city='calicut'\n"
     ]
    }
   ],
   "source": [
    "print(person1)"
   ]
  },
  {
   "cell_type": "code",
   "execution_count": 18,
   "metadata": {},
   "outputs": [],
   "source": [
    "from typing import Optional"
   ]
  },
  {
   "cell_type": "code",
   "execution_count": 19,
   "metadata": {},
   "outputs": [],
   "source": [
    "class teacher(BaseModel):\n",
    "    id: int\n",
    "    name: str\n",
    "    place:str\n",
    "    subject: Optional[str]='All'\n",
    "    salary: Optional[float]=None\n",
    "    "
   ]
  },
  {
   "cell_type": "code",
   "execution_count": 20,
   "metadata": {},
   "outputs": [
    {
     "name": "stdout",
     "output_type": "stream",
     "text": [
      "id=25 name='rithas' place='malapuram' subject='All' salary=None\n"
     ]
    }
   ],
   "source": [
    "teacher1=teacher(id=25,name='rithas',place='malapuram')\n",
    "print(teacher1)"
   ]
  },
  {
   "cell_type": "code",
   "execution_count": 21,
   "metadata": {},
   "outputs": [
    {
     "name": "stdout",
     "output_type": "stream",
     "text": [
      "id=24 name='jibil' place='manjeri' subject='flutter' salary=40000.0\n"
     ]
    }
   ],
   "source": [
    "teacher2=teacher(id=24,name='jibil',place='manjeri',subject='flutter',salary=40000)\n",
    "print(teacher2)"
   ]
  },
  {
   "cell_type": "code",
   "execution_count": 22,
   "metadata": {},
   "outputs": [
    {
     "ename": "ValidationError",
     "evalue": "1 validation error for teacher\nplace\n  Input should be a valid string [type=string_type, input_value=24, input_type=int]\n    For further information visit https://errors.pydantic.dev/2.11/v/string_type",
     "output_type": "error",
     "traceback": [
      "\u001b[1;31m---------------------------------------------------------------------------\u001b[0m",
      "\u001b[1;31mValidationError\u001b[0m                           Traceback (most recent call last)",
      "\u001b[1;32mc:\\Users\\We Store\\OneDrive\\Desktop\\Data Science\\Generative AI\\pydentic\\pydentic.ipynb Cell 11\u001b[0m line \u001b[0;36m1\n\u001b[1;32m----> <a href='vscode-notebook-cell:/c%3A/Users/We%20Store/OneDrive/Desktop/Data%20Science/Generative%20AI/pydentic/pydentic.ipynb#X13sZmlsZQ%3D%3D?line=0'>1</a>\u001b[0m teacher3\u001b[39m=\u001b[39mteacher(\u001b[39mid\u001b[39;49m\u001b[39m=\u001b[39;49m\u001b[39m24\u001b[39;49m,name\u001b[39m=\u001b[39;49m\u001b[39m'\u001b[39;49m\u001b[39mhashir\u001b[39;49m\u001b[39m'\u001b[39;49m,place\u001b[39m=\u001b[39;49m\u001b[39m24\u001b[39;49m,subject\u001b[39m=\u001b[39;49m\u001b[39m'\u001b[39;49m\u001b[39mflutter\u001b[39;49m\u001b[39m'\u001b[39;49m,salary\u001b[39m=\u001b[39;49m\u001b[39m40000\u001b[39;49m)\n\u001b[0;32m      <a href='vscode-notebook-cell:/c%3A/Users/We%20Store/OneDrive/Desktop/Data%20Science/Generative%20AI/pydentic/pydentic.ipynb#X13sZmlsZQ%3D%3D?line=1'>2</a>\u001b[0m \u001b[39mprint\u001b[39m(teacher2)\n",
      "File \u001b[1;32mc:\\Users\\We Store\\OneDrive\\Desktop\\Data Science\\learning_chatbot\\7\\venv\\Lib\\site-packages\\pydantic\\main.py:253\u001b[0m, in \u001b[0;36mBaseModel.__init__\u001b[1;34m(self, **data)\u001b[0m\n\u001b[0;32m    251\u001b[0m \u001b[39m# `__tracebackhide__` tells pytest and some other tools to omit this function from tracebacks\u001b[39;00m\n\u001b[0;32m    252\u001b[0m __tracebackhide__ \u001b[39m=\u001b[39m \u001b[39mTrue\u001b[39;00m\n\u001b[1;32m--> 253\u001b[0m validated_self \u001b[39m=\u001b[39m \u001b[39mself\u001b[39;49m\u001b[39m.\u001b[39;49m__pydantic_validator__\u001b[39m.\u001b[39;49mvalidate_python(data, self_instance\u001b[39m=\u001b[39;49m\u001b[39mself\u001b[39;49m)\n\u001b[0;32m    254\u001b[0m \u001b[39mif\u001b[39;00m \u001b[39mself\u001b[39m \u001b[39mis\u001b[39;00m \u001b[39mnot\u001b[39;00m validated_self:\n\u001b[0;32m    255\u001b[0m     warnings\u001b[39m.\u001b[39mwarn(\n\u001b[0;32m    256\u001b[0m         \u001b[39m'\u001b[39m\u001b[39mA custom validator is returning a value other than `self`.\u001b[39m\u001b[39m\\n\u001b[39;00m\u001b[39m'\u001b[39m\n\u001b[0;32m    257\u001b[0m         \u001b[39m\"\u001b[39m\u001b[39mReturning anything other than `self` from a top level model validator isn\u001b[39m\u001b[39m'\u001b[39m\u001b[39mt supported when validating via `__init__`.\u001b[39m\u001b[39m\\n\u001b[39;00m\u001b[39m\"\u001b[39m\n\u001b[0;32m    258\u001b[0m         \u001b[39m'\u001b[39m\u001b[39mSee the `model_validator` docs (https://docs.pydantic.dev/latest/concepts/validators/#model-validators) for more details.\u001b[39m\u001b[39m'\u001b[39m,\n\u001b[0;32m    259\u001b[0m         stacklevel\u001b[39m=\u001b[39m\u001b[39m2\u001b[39m,\n\u001b[0;32m    260\u001b[0m     )\n",
      "\u001b[1;31mValidationError\u001b[0m: 1 validation error for teacher\nplace\n  Input should be a valid string [type=string_type, input_value=24, input_type=int]\n    For further information visit https://errors.pydantic.dev/2.11/v/string_type"
     ]
    }
   ],
   "source": [
    "teacher3=teacher(id=24,name='hashir',place=24,subject='flutter',salary=40000)\n",
    "print(teacher2)"
   ]
  },
  {
   "cell_type": "code",
   "execution_count": 23,
   "metadata": {},
   "outputs": [],
   "source": [
    "from typing import List"
   ]
  },
  {
   "cell_type": "code",
   "execution_count": 25,
   "metadata": {},
   "outputs": [],
   "source": [
    "class Office(BaseModel):\n",
    "    cabin_no:int\n",
    "    employee:List[str]\n",
    "    total_no:int\n"
   ]
  },
  {
   "cell_type": "code",
   "execution_count": 26,
   "metadata": {},
   "outputs": [
    {
     "name": "stdout",
     "output_type": "stream",
     "text": [
      "cabin_no=23 employee=['jasir', 'sijil', 'hamza'] total_no=3\n"
     ]
    }
   ],
   "source": [
    "wipro=Office(cabin_no=23,employee=['jasir','sijil','hamza'],total_no=3)\n",
    "print(wipro)"
   ]
  },
  {
   "cell_type": "code",
   "execution_count": 27,
   "metadata": {},
   "outputs": [
    {
     "ename": "ValidationError",
     "evalue": "1 validation error for Office\nemployee.3\n  Input should be a valid string [type=string_type, input_value=25, input_type=int]\n    For further information visit https://errors.pydantic.dev/2.11/v/string_type",
     "output_type": "error",
     "traceback": [
      "\u001b[1;31m---------------------------------------------------------------------------\u001b[0m",
      "\u001b[1;31mValidationError\u001b[0m                           Traceback (most recent call last)",
      "\u001b[1;32mc:\\Users\\We Store\\OneDrive\\Desktop\\Data Science\\Generative AI\\pydentic\\pydentic.ipynb Cell 15\u001b[0m line \u001b[0;36m1\n\u001b[1;32m----> <a href='vscode-notebook-cell:/c%3A/Users/We%20Store/OneDrive/Desktop/Data%20Science/Generative%20AI/pydentic/pydentic.ipynb#X20sZmlsZQ%3D%3D?line=0'>1</a>\u001b[0m nutrinos\u001b[39m=\u001b[39mOffice(cabin_no\u001b[39m=\u001b[39;49m\u001b[39m23\u001b[39;49m,employee\u001b[39m=\u001b[39;49m[\u001b[39m'\u001b[39;49m\u001b[39mjasir\u001b[39;49m\u001b[39m'\u001b[39;49m,\u001b[39m'\u001b[39;49m\u001b[39msijil\u001b[39;49m\u001b[39m'\u001b[39;49m,\u001b[39m'\u001b[39;49m\u001b[39mhamza\u001b[39;49m\u001b[39m'\u001b[39;49m,\u001b[39m25\u001b[39;49m],total_no\u001b[39m=\u001b[39;49m\u001b[39m3\u001b[39;49m)\n\u001b[0;32m      <a href='vscode-notebook-cell:/c%3A/Users/We%20Store/OneDrive/Desktop/Data%20Science/Generative%20AI/pydentic/pydentic.ipynb#X20sZmlsZQ%3D%3D?line=1'>2</a>\u001b[0m \u001b[39mprint\u001b[39m(wipro)\n",
      "File \u001b[1;32mc:\\Users\\We Store\\OneDrive\\Desktop\\Data Science\\learning_chatbot\\7\\venv\\Lib\\site-packages\\pydantic\\main.py:253\u001b[0m, in \u001b[0;36mBaseModel.__init__\u001b[1;34m(self, **data)\u001b[0m\n\u001b[0;32m    251\u001b[0m \u001b[39m# `__tracebackhide__` tells pytest and some other tools to omit this function from tracebacks\u001b[39;00m\n\u001b[0;32m    252\u001b[0m __tracebackhide__ \u001b[39m=\u001b[39m \u001b[39mTrue\u001b[39;00m\n\u001b[1;32m--> 253\u001b[0m validated_self \u001b[39m=\u001b[39m \u001b[39mself\u001b[39;49m\u001b[39m.\u001b[39;49m__pydantic_validator__\u001b[39m.\u001b[39;49mvalidate_python(data, self_instance\u001b[39m=\u001b[39;49m\u001b[39mself\u001b[39;49m)\n\u001b[0;32m    254\u001b[0m \u001b[39mif\u001b[39;00m \u001b[39mself\u001b[39m \u001b[39mis\u001b[39;00m \u001b[39mnot\u001b[39;00m validated_self:\n\u001b[0;32m    255\u001b[0m     warnings\u001b[39m.\u001b[39mwarn(\n\u001b[0;32m    256\u001b[0m         \u001b[39m'\u001b[39m\u001b[39mA custom validator is returning a value other than `self`.\u001b[39m\u001b[39m\\n\u001b[39;00m\u001b[39m'\u001b[39m\n\u001b[0;32m    257\u001b[0m         \u001b[39m\"\u001b[39m\u001b[39mReturning anything other than `self` from a top level model validator isn\u001b[39m\u001b[39m'\u001b[39m\u001b[39mt supported when validating via `__init__`.\u001b[39m\u001b[39m\\n\u001b[39;00m\u001b[39m\"\u001b[39m\n\u001b[0;32m    258\u001b[0m         \u001b[39m'\u001b[39m\u001b[39mSee the `model_validator` docs (https://docs.pydantic.dev/latest/concepts/validators/#model-validators) for more details.\u001b[39m\u001b[39m'\u001b[39m,\n\u001b[0;32m    259\u001b[0m         stacklevel\u001b[39m=\u001b[39m\u001b[39m2\u001b[39m,\n\u001b[0;32m    260\u001b[0m     )\n",
      "\u001b[1;31mValidationError\u001b[0m: 1 validation error for Office\nemployee.3\n  Input should be a valid string [type=string_type, input_value=25, input_type=int]\n    For further information visit https://errors.pydantic.dev/2.11/v/string_type"
     ]
    }
   ],
   "source": [
    "nutrinos=Office(cabin_no=23,employee=['jasir','sijil','hamza',25],total_no=3)\n",
    "print(wipro)"
   ]
  },
  {
   "cell_type": "code",
   "execution_count": 31,
   "metadata": {},
   "outputs": [
    {
     "name": "stdout",
     "output_type": "stream",
     "text": [
      "1 validation error for Office\n",
      "employee.3\n",
      "  Input should be a valid string [type=string_type, input_value=45, input_type=int]\n",
      "    For further information visit https://errors.pydantic.dev/2.11/v/string_type\n"
     ]
    }
   ],
   "source": [
    "try:\n",
    "    invalid_val=Office(cabin_no=20,employee=['thasna','jusna','shahid',45],total_no=4)\n",
    "except ValueError as e:\n",
    "    print(e)"
   ]
  },
  {
   "cell_type": "code",
   "execution_count": 34,
   "metadata": {},
   "outputs": [],
   "source": [
    "class Address(BaseModel):\n",
    "    street:str\n",
    "    city:str\n",
    "    zip_code:int\n",
    "class Customer(BaseModel):\n",
    "    customer_id:int\n",
    "    name:str\n",
    "    address:Address"
   ]
  },
  {
   "cell_type": "code",
   "execution_count": 35,
   "metadata": {},
   "outputs": [
    {
     "name": "stdout",
     "output_type": "stream",
     "text": [
      "customer_id=1 name='muhammed' address=Address(street='vanimel', city='kallachi', zip_code=1245)\n"
     ]
    }
   ],
   "source": [
    "customer=Customer(customer_id=1,name='muhammed',address={'street':'vanimel','city':'kallachi','zip_code':'1245'})\n",
    "\n",
    "print(customer)"
   ]
  },
  {
   "cell_type": "markdown",
   "metadata": {},
   "source": [
    "### Fields"
   ]
  },
  {
   "cell_type": "code",
   "execution_count": 37,
   "metadata": {},
   "outputs": [],
   "source": [
    "from pydantic import Field,BaseModel"
   ]
  },
  {
   "cell_type": "code",
   "execution_count": 39,
   "metadata": {},
   "outputs": [],
   "source": [
    "class Item(BaseModel):\n",
    "    name:str=Field(min_length=4,max_length=15)\n",
    "    price:float=Field(gt=100,le=1000)\n",
    "    quantity:int=Field(ge=0)\n"
   ]
  },
  {
   "cell_type": "code",
   "execution_count": 40,
   "metadata": {},
   "outputs": [
    {
     "name": "stdout",
     "output_type": "stream",
     "text": [
      "name='gold' price=120.0 quantity=5\n"
     ]
    }
   ],
   "source": [
    "item=Item(name='gold',price=120,quantity=5)\n",
    "print(item)"
   ]
  },
  {
   "cell_type": "code",
   "execution_count": 41,
   "metadata": {},
   "outputs": [
    {
     "ename": "ValidationError",
     "evalue": "3 validation errors for Item\nname\n  String should have at least 4 characters [type=string_too_short, input_value='ion', input_type=str]\n    For further information visit https://errors.pydantic.dev/2.11/v/string_too_short\nprice\n  Input should be less than or equal to 1000 [type=less_than_equal, input_value=2000, input_type=int]\n    For further information visit https://errors.pydantic.dev/2.11/v/less_than_equal\nquantity\n  Input should be greater than or equal to 0 [type=greater_than_equal, input_value=-1, input_type=int]\n    For further information visit https://errors.pydantic.dev/2.11/v/greater_than_equal",
     "output_type": "error",
     "traceback": [
      "\u001b[1;31m---------------------------------------------------------------------------\u001b[0m",
      "\u001b[1;31mValidationError\u001b[0m                           Traceback (most recent call last)",
      "\u001b[1;32mc:\\Users\\We Store\\OneDrive\\Desktop\\Data Science\\Generative AI\\pydentic\\pydentic.ipynb Cell 23\u001b[0m line \u001b[0;36m1\n\u001b[1;32m----> <a href='vscode-notebook-cell:/c%3A/Users/We%20Store/OneDrive/Desktop/Data%20Science/Generative%20AI/pydentic/pydentic.ipynb#X31sZmlsZQ%3D%3D?line=0'>1</a>\u001b[0m item2\u001b[39m=\u001b[39mItem(name\u001b[39m=\u001b[39;49m\u001b[39m'\u001b[39;49m\u001b[39mion\u001b[39;49m\u001b[39m'\u001b[39;49m,price\u001b[39m=\u001b[39;49m\u001b[39m2000\u001b[39;49m,quantity\u001b[39m=\u001b[39;49m\u001b[39m-\u001b[39;49m\u001b[39m1\u001b[39;49m)\n\u001b[0;32m      <a href='vscode-notebook-cell:/c%3A/Users/We%20Store/OneDrive/Desktop/Data%20Science/Generative%20AI/pydentic/pydentic.ipynb#X31sZmlsZQ%3D%3D?line=1'>2</a>\u001b[0m \u001b[39mprint\u001b[39m(item2)\n",
      "File \u001b[1;32mc:\\Users\\We Store\\OneDrive\\Desktop\\Data Science\\learning_chatbot\\7\\venv\\Lib\\site-packages\\pydantic\\main.py:253\u001b[0m, in \u001b[0;36mBaseModel.__init__\u001b[1;34m(self, **data)\u001b[0m\n\u001b[0;32m    251\u001b[0m \u001b[39m# `__tracebackhide__` tells pytest and some other tools to omit this function from tracebacks\u001b[39;00m\n\u001b[0;32m    252\u001b[0m __tracebackhide__ \u001b[39m=\u001b[39m \u001b[39mTrue\u001b[39;00m\n\u001b[1;32m--> 253\u001b[0m validated_self \u001b[39m=\u001b[39m \u001b[39mself\u001b[39;49m\u001b[39m.\u001b[39;49m__pydantic_validator__\u001b[39m.\u001b[39;49mvalidate_python(data, self_instance\u001b[39m=\u001b[39;49m\u001b[39mself\u001b[39;49m)\n\u001b[0;32m    254\u001b[0m \u001b[39mif\u001b[39;00m \u001b[39mself\u001b[39m \u001b[39mis\u001b[39;00m \u001b[39mnot\u001b[39;00m validated_self:\n\u001b[0;32m    255\u001b[0m     warnings\u001b[39m.\u001b[39mwarn(\n\u001b[0;32m    256\u001b[0m         \u001b[39m'\u001b[39m\u001b[39mA custom validator is returning a value other than `self`.\u001b[39m\u001b[39m\\n\u001b[39;00m\u001b[39m'\u001b[39m\n\u001b[0;32m    257\u001b[0m         \u001b[39m\"\u001b[39m\u001b[39mReturning anything other than `self` from a top level model validator isn\u001b[39m\u001b[39m'\u001b[39m\u001b[39mt supported when validating via `__init__`.\u001b[39m\u001b[39m\\n\u001b[39;00m\u001b[39m\"\u001b[39m\n\u001b[0;32m    258\u001b[0m         \u001b[39m'\u001b[39m\u001b[39mSee the `model_validator` docs (https://docs.pydantic.dev/latest/concepts/validators/#model-validators) for more details.\u001b[39m\u001b[39m'\u001b[39m,\n\u001b[0;32m    259\u001b[0m         stacklevel\u001b[39m=\u001b[39m\u001b[39m2\u001b[39m,\n\u001b[0;32m    260\u001b[0m     )\n",
      "\u001b[1;31mValidationError\u001b[0m: 3 validation errors for Item\nname\n  String should have at least 4 characters [type=string_too_short, input_value='ion', input_type=str]\n    For further information visit https://errors.pydantic.dev/2.11/v/string_too_short\nprice\n  Input should be less than or equal to 1000 [type=less_than_equal, input_value=2000, input_type=int]\n    For further information visit https://errors.pydantic.dev/2.11/v/less_than_equal\nquantity\n  Input should be greater than or equal to 0 [type=greater_than_equal, input_value=-1, input_type=int]\n    For further information visit https://errors.pydantic.dev/2.11/v/greater_than_equal"
     ]
    }
   ],
   "source": [
    "item2=Item(name='ion',price=2000,quantity=-1)\n",
    "print(item2)"
   ]
  },
  {
   "cell_type": "code",
   "execution_count": 42,
   "metadata": {},
   "outputs": [
    {
     "name": "stdout",
     "output_type": "stream",
     "text": [
      "{'properties': {'name': {'maxLength': 15, 'minLength': 4, 'title': 'Name', 'type': 'string'}, 'price': {'exclusiveMinimum': 100, 'maximum': 1000, 'title': 'Price', 'type': 'number'}, 'quantity': {'minimum': 0, 'title': 'Quantity', 'type': 'integer'}}, 'required': ['name', 'price', 'quantity'], 'title': 'Item', 'type': 'object'}\n"
     ]
    }
   ],
   "source": [
    "print(Item.model_json_schema())"
   ]
  },
  {
   "cell_type": "code",
   "execution_count": null,
   "metadata": {},
   "outputs": [],
   "source": []
  }
 ],
 "metadata": {
  "kernelspec": {
   "display_name": "Python 3",
   "language": "python",
   "name": "python3"
  },
  "language_info": {
   "codemirror_mode": {
    "name": "ipython",
    "version": 3
   },
   "file_extension": ".py",
   "mimetype": "text/x-python",
   "name": "python",
   "nbconvert_exporter": "python",
   "pygments_lexer": "ipython3",
   "version": "3.12.0"
  }
 },
 "nbformat": 4,
 "nbformat_minor": 2
}
